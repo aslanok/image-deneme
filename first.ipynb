{
 "cells": [
  {
   "cell_type": "code",
   "execution_count": 6,
   "id": "e9882060",
   "metadata": {},
   "outputs": [
    {
     "ename": "HTTPError",
     "evalue": "429 Client Error: Unknown Error for url: https://imgur.com/a/foto-4SY75Rg",
     "output_type": "error",
     "traceback": [
      "\u001b[31m---------------------------------------------------------------------------\u001b[39m",
      "\u001b[31mHTTPError\u001b[39m                                 Traceback (most recent call last)",
      "\u001b[36mCell\u001b[39m\u001b[36m \u001b[39m\u001b[32mIn[6]\u001b[39m\u001b[32m, line 11\u001b[39m\n\u001b[32m      9\u001b[39m \u001b[38;5;66;03m# 2. download the image data\u001b[39;00m\n\u001b[32m     10\u001b[39m response = requests.get(url)\n\u001b[32m---> \u001b[39m\u001b[32m11\u001b[39m \u001b[43mresponse\u001b[49m\u001b[43m.\u001b[49m\u001b[43mraise_for_status\u001b[49m\u001b[43m(\u001b[49m\u001b[43m)\u001b[49m  \u001b[38;5;66;03m# make sure the request succeeded\u001b[39;00m\n\u001b[32m     13\u001b[39m \u001b[38;5;66;03m# 3. open it with Pillow\u001b[39;00m\n\u001b[32m     14\u001b[39m img = Image.open(BytesIO(response.content))\n",
      "\u001b[36mFile \u001b[39m\u001b[32mc:\\Users\\SnA Consulting\\.conda\\envs\\azerVenv\\Lib\\site-packages\\requests\\models.py:1024\u001b[39m, in \u001b[36mResponse.raise_for_status\u001b[39m\u001b[34m(self)\u001b[39m\n\u001b[32m   1019\u001b[39m     http_error_msg = (\n\u001b[32m   1020\u001b[39m         \u001b[33mf\u001b[39m\u001b[33m\"\u001b[39m\u001b[38;5;132;01m{\u001b[39;00m\u001b[38;5;28mself\u001b[39m.status_code\u001b[38;5;132;01m}\u001b[39;00m\u001b[33m Server Error: \u001b[39m\u001b[38;5;132;01m{\u001b[39;00mreason\u001b[38;5;132;01m}\u001b[39;00m\u001b[33m for url: \u001b[39m\u001b[38;5;132;01m{\u001b[39;00m\u001b[38;5;28mself\u001b[39m.url\u001b[38;5;132;01m}\u001b[39;00m\u001b[33m\"\u001b[39m\n\u001b[32m   1021\u001b[39m     )\n\u001b[32m   1023\u001b[39m \u001b[38;5;28;01mif\u001b[39;00m http_error_msg:\n\u001b[32m-> \u001b[39m\u001b[32m1024\u001b[39m     \u001b[38;5;28;01mraise\u001b[39;00m HTTPError(http_error_msg, response=\u001b[38;5;28mself\u001b[39m)\n",
      "\u001b[31mHTTPError\u001b[39m: 429 Client Error: Unknown Error for url: https://imgur.com/a/foto-4SY75Rg"
     ]
    }
   ],
   "source": [
    "import requests\n",
    "from PIL import Image\n",
    "from io import BytesIO\n",
    "import matplotlib.pyplot as plt\n",
    "\n",
    "# 1. point to the direct image URL\n",
    "url = \"https://imgur.com/a/foto-4SY75Rg\"\n",
    "\n",
    "# 2. download the image data\n",
    "response = requests.get(url)\n",
    "response.raise_for_status()  # make sure the request succeeded\n",
    "\n",
    "# 3. open it with Pillow\n",
    "img = Image.open(BytesIO(response.content))\n",
    "\n",
    "# 4. display with matplotlib\n",
    "plt.imshow(img)\n",
    "plt.axis('off')  # hide axes\n",
    "plt.show()\n"
   ]
  },
  {
   "cell_type": "code",
   "execution_count": null,
   "id": "a14dae70",
   "metadata": {},
   "outputs": [],
   "source": [
    "WEBUI_FAVICON_URL = \"https://openwebui.com/favicon.png\""
   ]
  }
 ],
 "metadata": {
  "kernelspec": {
   "display_name": "azerVenv",
   "language": "python",
   "name": "python3"
  },
  "language_info": {
   "codemirror_mode": {
    "name": "ipython",
    "version": 3
   },
   "file_extension": ".py",
   "mimetype": "text/x-python",
   "name": "python",
   "nbconvert_exporter": "python",
   "pygments_lexer": "ipython3",
   "version": "3.12.11"
  }
 },
 "nbformat": 4,
 "nbformat_minor": 5
}
